{
 "cells": [
  {
   "cell_type": "code",
   "execution_count": 11,
   "id": "988e90c4",
   "metadata": {},
   "outputs": [
    {
     "name": "stdout",
     "output_type": "stream",
     "text": [
      "None\n"
     ]
    }
   ],
   "source": [
    "def fun(a,b):\n",
    "    if a==0:\n",
    "        return b\n",
    "    else:\n",
    "        fun(b%a,a)\n",
    "print(fun(30,75))\n"
   ]
  },
  {
   "cell_type": "code",
   "execution_count": 13,
   "id": "50e11d2f",
   "metadata": {},
   "outputs": [
    {
     "name": "stdout",
     "output_type": "stream",
     "text": [
      "<class 'filter'>\n"
     ]
    }
   ],
   "source": [
    "numbers = (4, 7, 19, 2, 89, 45, 72, 22)\n",
    "sorted_numbers = sorted(numbers)\n",
    "even = lambda a: a % 2 == 0\n",
    "even_numbers = filter(even, sorted_numbers)\n",
    "print(type(even_numbers))"
   ]
  },
  {
   "cell_type": "code",
   "execution_count": 20,
   "id": "1f00ac6d",
   "metadata": {},
   "outputs": [
    {
     "ename": "AttributeError",
     "evalue": "'set' object attribute 'add' is read-only",
     "output_type": "error",
     "traceback": [
      "\u001b[1;31m---------------------------------------------------------------------------\u001b[0m",
      "\u001b[1;31mAttributeError\u001b[0m                            Traceback (most recent call last)",
      "Cell \u001b[1;32mIn[20], line 2\u001b[0m\n\u001b[0;32m      1\u001b[0m my_set\u001b[38;5;241m=\u001b[39m\u001b[38;5;28mset\u001b[39m()\n\u001b[1;32m----> 2\u001b[0m my_set\u001b[38;5;241m.\u001b[39madd\u001b[38;5;241m=\u001b[39m{\u001b[38;5;241m14\u001b[39m,\u001b[38;5;241m3\u001b[39m,\u001b[38;5;241m55\u001b[39m}\n\u001b[0;32m      3\u001b[0m my_set\u001b[38;5;241m.\u001b[39madd\u001b[38;5;241m=\u001b[39m{\u001b[38;5;241m82\u001b[39m,\u001b[38;5;241m49\u001b[39m,\u001b[38;5;241m62\u001b[39m}\n\u001b[0;32m      4\u001b[0m my_set\u001b[38;5;241m.\u001b[39madd\u001b[38;5;241m=\u001b[39m{\u001b[38;5;241m99\u001b[39m,\u001b[38;5;241m49\u001b[39m,\u001b[38;5;241m62\u001b[39m}\n",
      "\u001b[1;31mAttributeError\u001b[0m: 'set' object attribute 'add' is read-only"
     ]
    }
   ],
   "source": [
    "my_set=set()\n",
    "my_set.add={14,3,55}\n",
    "my_set.add={82,49,62}\n",
    "my_set.add={99,49,62}\n",
    "print(my_set)"
   ]
  },
  {
   "cell_type": "code",
   "execution_count": 21,
   "id": "e8f98a90",
   "metadata": {},
   "outputs": [
    {
     "name": "stdout",
     "output_type": "stream",
     "text": [
      "208\n"
     ]
    }
   ],
   "source": [
    "print(4**3 + (7 + 5)**(1 + 1))"
   ]
  },
  {
   "cell_type": "code",
   "execution_count": 23,
   "id": "889d1968",
   "metadata": {},
   "outputs": [
    {
     "name": "stdout",
     "output_type": "stream",
     "text": [
      "{'Enterprise': 'Picard', 'Voyager': 'Janeway', 'Defiant': 'Sisko', 'Discovery': 'unknown'}\n"
     ]
    }
   ],
   "source": [
    "captains = {\n",
    "\"Enterprise\": \"Picard\",\n",
    "\"Voyager\": \"Janeway\",\n",
    "\"Defiant\": \"Sisko\",\n",
    "\"Discovery\": \"unknown\",\n",
    "}\n",
    "print(captains)"
   ]
  },
  {
   "cell_type": "code",
   "execution_count": 25,
   "id": "18211e06",
   "metadata": {},
   "outputs": [],
   "source": [
    "del captains['Discovery']"
   ]
  },
  {
   "cell_type": "code",
   "execution_count": 26,
   "id": "16bae775",
   "metadata": {},
   "outputs": [
    {
     "data": {
      "text/plain": [
       "{'Enterprise': 'Picard', 'Voyager': 'Janeway', 'Defiant': 'Sisko'}"
      ]
     },
     "execution_count": 26,
     "metadata": {},
     "output_type": "execute_result"
    }
   ],
   "source": [
    "captains"
   ]
  },
  {
   "cell_type": "code",
   "execution_count": null,
   "id": "cdef060f",
   "metadata": {},
   "outputs": [],
   "source": [
    "captains = {\n",
    "\"Enterprise\": \"Picard\",\n",
    "\"Voyager\": \"Janeway\",\n",
    "\"Defiant\": \"Sisko\",\n",
    "\"Discovery\": \"unknown\",\n",
    "}\n",
    "\n",
    "for item in captains:\n",
    "    print"
   ]
  }
 ],
 "metadata": {
  "kernelspec": {
   "display_name": "Python 3 (ipykernel)",
   "language": "python",
   "name": "python3"
  },
  "language_info": {
   "codemirror_mode": {
    "name": "ipython",
    "version": 3
   },
   "file_extension": ".py",
   "mimetype": "text/x-python",
   "name": "python",
   "nbconvert_exporter": "python",
   "pygments_lexer": "ipython3",
   "version": "3.11.3"
  }
 },
 "nbformat": 4,
 "nbformat_minor": 5
}
